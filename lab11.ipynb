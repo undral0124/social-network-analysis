{
  "cells": [
    {
      "cell_type": "markdown",
      "metadata": {
        "id": "view-in-github",
        "colab_type": "text"
      },
      "source": [
        "<a href=\"https://colab.research.google.com/github/undral0124/social-network-analysis/blob/main/lab11.ipynb\" target=\"_parent\"><img src=\"https://colab.research.google.com/assets/colab-badge.svg\" alt=\"Open In Colab\"/></a>"
      ]
    },
    {
      "cell_type": "markdown",
      "source": [
        "**Лабораторийн ажил 11**\n",
        "\n",
        "B241910036 П.Ундрал"
      ],
      "metadata": {
        "id": "5H1cADXIN0m4"
      }
    },
    {
      "cell_type": "code",
      "source": [
        "pip install linkpred  # Python-д зориулсан `linkpred` нэртэй санг суулгаж байна"
      ],
      "metadata": {
        "colab": {
          "base_uri": "https://localhost:8080/"
        },
        "id": "9Q9bEOg52bfa",
        "outputId": "f5debca9-9a03-45f5-c521-7f26cf413325"
      },
      "execution_count": null,
      "outputs": [
        {
          "output_type": "stream",
          "name": "stdout",
          "text": [
            "Requirement already satisfied: linkpred in /usr/local/lib/python3.11/dist-packages (0.6)\n",
            "Requirement already satisfied: matplotlib>=3.5 in /usr/local/lib/python3.11/dist-packages (from linkpred) (3.10.0)\n",
            "Requirement already satisfied: networkx>=3.0 in /usr/local/lib/python3.11/dist-packages (from linkpred) (3.4.2)\n",
            "Requirement already satisfied: numpy>=1.23 in /usr/local/lib/python3.11/dist-packages (from linkpred) (2.0.2)\n",
            "Requirement already satisfied: pyyaml>=3.0 in /usr/local/lib/python3.11/dist-packages (from linkpred) (6.0.2)\n",
            "Requirement already satisfied: scipy>=1.10 in /usr/local/lib/python3.11/dist-packages (from linkpred) (1.14.1)\n",
            "Requirement already satisfied: smokesignal>=0.7 in /usr/local/lib/python3.11/dist-packages (from linkpred) (0.7.0)\n",
            "Requirement already satisfied: contourpy>=1.0.1 in /usr/local/lib/python3.11/dist-packages (from matplotlib>=3.5->linkpred) (1.3.1)\n",
            "Requirement already satisfied: cycler>=0.10 in /usr/local/lib/python3.11/dist-packages (from matplotlib>=3.5->linkpred) (0.12.1)\n",
            "Requirement already satisfied: fonttools>=4.22.0 in /usr/local/lib/python3.11/dist-packages (from matplotlib>=3.5->linkpred) (4.57.0)\n",
            "Requirement already satisfied: kiwisolver>=1.3.1 in /usr/local/lib/python3.11/dist-packages (from matplotlib>=3.5->linkpred) (1.4.8)\n",
            "Requirement already satisfied: packaging>=20.0 in /usr/local/lib/python3.11/dist-packages (from matplotlib>=3.5->linkpred) (24.2)\n",
            "Requirement already satisfied: pillow>=8 in /usr/local/lib/python3.11/dist-packages (from matplotlib>=3.5->linkpred) (11.1.0)\n",
            "Requirement already satisfied: pyparsing>=2.3.1 in /usr/local/lib/python3.11/dist-packages (from matplotlib>=3.5->linkpred) (3.2.3)\n",
            "Requirement already satisfied: python-dateutil>=2.7 in /usr/local/lib/python3.11/dist-packages (from matplotlib>=3.5->linkpred) (2.8.2)\n",
            "Requirement already satisfied: six>=1.5 in /usr/local/lib/python3.11/dist-packages (from python-dateutil>=2.7->matplotlib>=3.5->linkpred) (1.17.0)\n"
          ]
        }
      ]
    },
    {
      "cell_type": "code",
      "execution_count": null,
      "metadata": {
        "id": "VKUU61MX0asB"
      },
      "outputs": [],
      "source": [
        "import linkpred  # linkpred санг ашиглахын тулд импортолж байна"
      ]
    },
    {
      "cell_type": "markdown",
      "metadata": {
        "id": "b3qovt6w0asC"
      },
      "source": [
        "**Холбоос таамаглах үйл явцын үе шат**\n",
        "\n",
        "linkpred сан нь холбоос таамаглах үйл явцыг дараах гурван үндсэн алхамаар гүйцэтгэдэг:\n",
        "\n",
        "Сүлжээний мэдээллийг ачаалах – Network Loading\n",
        "\n",
        "\n",
        "Таамаглагч алгоритмыг сонгож хэрэглэх – Predictor Selection and Application\n",
        "Үр дүнг шинжлэн үнэлэх – Results Evaluation\n",
        "\n",
        "Файлаас граф унших: сүлжээ байгуулах эхний алхам\n",
        "\n",
        "Эхний алхам нь сүлжээг файлын мэдээллээс уншиж байгуулах юм. Энэ жишээнд бид Game of Thrones цувралын 6-р улирлын дүрүүдийн хоорондын харилцааг илэрхийлсэн ирмэгийн өгөгдлийг ашиглах болно."
      ]
    },
    {
      "cell_type": "code",
      "execution_count": null,
      "metadata": {
        "id": "Ock86qcM0asD"
      },
      "outputs": [],
      "source": [
        "%matplotlib inline\n",
        "import matplotlib.pyplot as plt  # matplotlib-ийн график зурах pyplot модулийг plt нэрээр импортолж байна\n",
        "import networkx as nx  # сүлжээний граф ажиллуулах networkx номын санг nx нэрээр импортолж байна"
      ]
    },
    {
      "cell_type": "code",
      "execution_count": null,
      "metadata": {
        "id": "mFLaxPRi0asD"
      },
      "outputs": [],
      "source": [
        "def read_net_w(filename):  # жингтэй (weight) сүлжээний граф унших функц тодорхойлж байна\n",
        "    g = nx.Graph()  # хоосон граф үүсгэж байна\n",
        "    with open(filename) as f:  # өгөгдсөн файлыг нээж байна\n",
        "        f.readline()  # эхний мөрийг (гарчиг) алгасаж уншиж байна\n",
        "        for l in f:  # үлдсэн мөр бүрээр давталт хийж байна\n",
        "            l = l.split(\",\")  # мөрийг таслалаар хувааж байна\n",
        "            g.add_edge(l[0], l[1], weight=int(l[2]))  # хоёр оролцогч хооронд ирмэг нэмэх ба жинг нь 3-р баганаас авч байна\n",
        "    return g  # бүтээсэн графыг буцааж байна\n",
        "\n",
        "# Game of Thrones цувралын өгөгдөл\n",
        "g = read_net_w(f'/content/sample_data/got-s6-edges.csv')  # өгөгдлийг уншиж графт хувиргаж байна"
      ]
    },
    {
      "cell_type": "markdown",
      "metadata": {
        "id": "p1F4L2X20asD"
      },
      "source": [
        "**Удирдлагагүй сургалтын таамаглагчийг ашиглах**\n",
        "\n",
        "linkpred сан нь удирдлагагүй сургалтын олон төрлийн таамаглагчийг дэмждэг бөгөөд эдгээр нь дараах дөрвөн ангилалд хуваагддаг:\n",
        "\n",
        "1. Хөршийн харьцуулалт (Neighborhood)\n",
        "\n",
        "Энэ бүлэг нь орчны мэдээлэлд тулгуурласан таамаглагчдыг агуулдаг. Үүнд:\n",
        "\n",
        "AdamicAdar, CommonNeighbours, Jaccard, Cosine, DegreeProduct\n",
        "AssociationStrength, MaxOverlap, MinOverlap, NMeasure, Pearson\n",
        "ResourceAllocation\n",
        "\n",
        "2. Замд суурилсан аргачлал (Paths)\n",
        "\n",
        "Сүлжээнд орших замуудын урт, тоо хэмжээг харгалзан үздэг аргууд. Үүнд:\n",
        "\n",
        "Katz, GraphDistance\n",
        "\n",
        "3. Эрэмбэлэх хандлага (Ranking)\n",
        "\n",
        "Ул мөрийг нь даган үнэлэх болон төвшин тогтоох аргууд. Үүнд:\n",
        "\n",
        "SimRank, RootedPageRank\n",
        "\n",
        "4. Бусад төрөл (Miscellanea)\n",
        "\n",
        "Үлдсэн төрөл бүрийн таамаглагчид багтана. Үүнд:\n",
        "\n",
        "Community, Copy, Random"
      ]
    },
    {
      "cell_type": "markdown",
      "metadata": {
        "id": "fT5r4gl-0asE"
      },
      "source": [
        "**Neighborhood ангиллын таамаглагчид**\n",
        "\n",
        "Энэ бүлгийн таамаглагчид нь сүлжээ дэх зангилаануудын хөрш оройн бүтэц дээр үндэслэн холбоос үүсэх боломжийг тооцоолдог. Өөрөөр хэлбэл, хоёр оройн хооронд холбоос үүсэх эсэхийг тухайн оройн хамгийн ойрын хөршүүдийн харилцан хамаарал, тэдгээрийн хоорондын хүчтэй эсвэл сул холбоо зэргээс хамааран таамагладаг.\n",
        "\n",
        "Энэ төрлийн аргууд дараах асуултад хариу эрэлхийлдэг:\n",
        "\n",
        "\"Хоёр хүн найз болохын тулд тэд хэдий хэмжээний нийтлэг найзуудтай байх хэрэгтэй вэ?\"\n",
        "\n",
        "Common Neighbors (Дундын хөршүүд)\n",
        "\n",
        "Хамгийн энгийн бөгөөд түгээмэл хэрэглэгддэг нэгэн арга бол Common Neighbors арга юм. Энэ нь хоёр зангилаа (ороцогч) дунд хэдэн нийтлэг хөрш орой (найз нөхөд, хамтрагч гэх мэт) байгааг тооцоолох замаар холбоосын магадлалыг тодорхойлдог.\n",
        "\n",
        "Утга нь: Хэрвээ хоёр хүн илүү олон нийтлэг найзтай бол, тэдний хооронд шинэ холбоо үүсэх магадлал төдийчинээ өндөр байна."
      ]
    },
    {
      "cell_type": "code",
      "execution_count": null,
      "metadata": {
        "colab": {
          "base_uri": "https://localhost:8080/"
        },
        "id": "TdjLwxFL0asE",
        "outputId": "795ac9ab-1708-4255-e620-97bb4fe60117"
      },
      "outputs": [
        {
          "output_type": "stream",
          "name": "stdout",
          "text": [
            "TOMMEN - MACE 8.0\n",
            "NED - LADY_CRANE 8.0\n",
            "NED - CLARENZO 8.0\n",
            "MARGAERY - IZEMBARO 8.0\n",
            "MARGAERY - ARYA 8.0\n"
          ]
        }
      ],
      "source": [
        "cn = linkpred.predictors.CommonNeighbours(g, excluded=g.edges())\n",
        "# Common Neighbours (Нийтлэг хөршүүд) таамаглагчийг үүсгэж байна.\n",
        "# Бид зөвхөн шинэ холбоосуудыг таамаглахыг зорьж байгаа тул, одоо байгаа холбоосуудыг (g.edges()) хасаж байгаа.\n",
        "\n",
        "cn_results = cn.predict()\n",
        "# Таамагласан холбоосуудын үр дүнг гаргаж авч байна\n",
        "\n",
        "top = cn_results.top(5)\n",
        "# Дээд 5 холбоосыг оноогоор нь авч байна\n",
        "\n",
        "for edge, score in top.items():\n",
        "    print(edge, score)\n",
        "    # Топ 5 холбоос болон тэдгээрийн оноог хэвлэж байна"
      ]
    },
    {
      "cell_type": "markdown",
      "metadata": {
        "id": "o4NBiHl80asE"
      },
      "source": [
        "**Jaccard (Жаккардын индекс)**\n",
        "\n",
        "Jaccard арга нь топологи бүтэц болон оройн аттрибутуудын ижил төсөөтэй байдал дээр суурилдаг. Энэ арга нь хоёр зангилааны хооронд шинэ холбоо үүсэх магадлалыг тодорхойлохдоо тухайн оройнуудын хоорондох нийтлэг шинж чанарууд (найзууд, аттрибутууд) хэр их байгааг харгалзан үздэг.\n",
        "\n",
        "\n",
        "Утга нь: Хэрвээ хоёр орой ижил төстэй аттрибутууд эсвэл хөрш оройнуудтай (найз нөхөдтэй) байх нь өндөр байвал, тэдний хооронд холбоо үүсэх магадлал ч өндөр байна."
      ]
    },
    {
      "cell_type": "code",
      "execution_count": null,
      "metadata": {
        "colab": {
          "base_uri": "https://localhost:8080/"
        },
        "id": "-pqXnh8X0asF",
        "outputId": "2803446b-3c8b-4d3d-dfb4-ff9032694015"
      },
      "outputs": [
        {
          "output_type": "stream",
          "name": "stdout",
          "text": [
            "RED_PRIEST - KINVARA 1.0\n",
            "LITTLE_SAM - DICKON 1.0\n",
            "TOMMEN - MACE 0.7272727272727273\n",
            "JOFFREY - CAMELLO 0.7272727272727273\n",
            "OLD_NAN - BENJEN 0.7142857142857143\n"
          ]
        }
      ],
      "source": [
        "jc = linkpred.predictors.Jaccard(g, excluded=g.edges())\n",
        "# Jaccard аргачлалаар таамаглагч үүсгэж байна.\n",
        "# Бид зөвхөн шинэ холбоосуудыг таамаглахыг зорьж байгаа тул, одоо байгаа холбоосуудыг (g.edges()) хасаж байгаа.\n",
        "\n",
        "jc_results = jc.predict()\n",
        "# Таамагласан холбоосуудын үр дүнг гаргаж авч байна\n",
        "\n",
        "top = jc_results.top(5)\n",
        "# Дээд 5 холбоосыг оноогоор нь авч байна\n",
        "\n",
        "for edge, score in top.items():\n",
        "    print(edge, score)\n",
        "    # Топ 5 холбоос болон тэдгээрийн оноог хэвлэж байна"
      ]
    },
    {
      "cell_type": "markdown",
      "metadata": {
        "id": "kavWej340asF"
      },
      "source": [
        "**Adamic/Adar (Адамик/Адар)**\n",
        "\n",
        "Adamic/Adar арга нь дундын найзуудын тоо болон тэдгээрийн \"чухал байдал\" (бусад оройтой харьцах харилцааны хэмжээг харгалзан) дээр суурилдаг. Энэ арга нь хоёр оройнуудын дунд нийтлэг найзуудын тоог тооцоолохоос гадна, тэдгээр найзуудын тоо болон тухайн найзуудын сүлжээний байрлалын онцлогийг харгалзан үздэг.\n",
        "\n",
        "\n",
        "Утга нь: Хэрвээ хоёр орой их хэмжээний дундын найзуудтай бөгөөд эдгээр найзууд нь сүлжээнд чухал байр суурь эзэлж байгаа бол, тэдний хооронд холбоо үүсэх магадлал өндөр байна."
      ]
    },
    {
      "cell_type": "code",
      "execution_count": null,
      "metadata": {
        "colab": {
          "base_uri": "https://localhost:8080/"
        },
        "id": "EEppoq3f0asF",
        "outputId": "061fb827-6618-434c-918c-74124e92474f"
      },
      "outputs": [
        {
          "output_type": "stream",
          "name": "stdout",
          "text": [
            "TOMMEN - MACE 3.1875572810307893\n",
            "NED - LADY_CRANE 3.126371165725784\n",
            "NED - CLARENZO 3.126371165725784\n",
            "SANSA - ROBB 3.0966443151332466\n",
            "JOFFREY - CAMELLO 2.894493711932914\n"
          ]
        }
      ],
      "source": [
        "aa = linkpred.predictors.AdamicAdar(g, excluded=g.edges())\n",
        "# Adamic-Adar аргачлалаар таамаглагч үүсгэж байна.\n",
        "# Бид зөвхөн шинэ холбоосуудыг таамаглахыг зорьж байгаа тул, одоо байгаа холбоосуудыг (g.edges()) хасаж байгаа.\n",
        "\n",
        "aa_results = aa.predict()\n",
        "# Таамагласан холбоосуудын үр дүнг гаргаж авч байна\n",
        "\n",
        "top = aa_results.top(5)\n",
        "# Дээд 5 холбоосыг оноогоор нь авч байна\n",
        "\n",
        "for edge, score in top.items():\n",
        "    print(edge, score)\n",
        "    # Топ 5 холбоос болон тэдгээрийн оноог хэвлэж байна"
      ]
    },
    {
      "cell_type": "markdown",
      "metadata": {
        "id": "D_hzGZYA0asF"
      },
      "source": [
        "**Paths ангиллын таамаглагчид**\n",
        "\n",
        "\n",
        "Хоёрдогч төрлийн таамаглагчид нь хоёр оройн хоорондын зай буюу тэдний сүлжээнд байрлалын хол зай дээр тулгуурлан, ирээдүйд тэдний хооронд холбоо үүсэх магадлалыг тооцоолдог. Тэдгээр нь оройн хоорондын зайг тооцоолохын тулд сүлжээний замууд болон тэдгээрийн урт, тоо хэмжээг ашигладаг.\n",
        "\n",
        "Энэхүү төрөл нь дараах асуултад хариу олохыг хичээдэг:\n",
        "\n",
        "\"Бид хэр хол зайтай байгаа вэ?\"\n",
        "Katz\n",
        "\n",
        "Katz арга нь хоёр оройн хоорондох бүх боломжит замуудыг тооцоолж, эдгээр замуудын жингийн нийлбэрийг тодорхойлдог. Тодруулбал, энэ арга нь бүх замуудын урт болон тэдгээрийн \"жингийг\" харгалзан, хоёр орой хооронд шинэ холбоо үүсэх магадлалыг тодорхойлно.\n",
        "\n",
        "Утга нь: Katz арга нь бүх боломжит замуудын жингийг тооцоолж, тухайн оройнуудын хооронд холбоо үүсэх боломжийг илүү нарийвчлан таамагладаг."
      ]
    },
    {
      "cell_type": "code",
      "execution_count": null,
      "metadata": {
        "colab": {
          "base_uri": "https://localhost:8080/"
        },
        "id": "X--8-ary0asF",
        "outputId": "cdc0edd4-2fa4-44af-9da7-ebf5f1c38295"
      },
      "outputs": [
        {
          "output_type": "stream",
          "name": "stdout",
          "text": [
            "\n",
            "LADY_CRANE - JAQEN 0.005571576860773001\n",
            "SANSA - ALLISER_THORNE 0.004234378077202\n",
            "TYRION - DAARIO 0.004145905054793999\n",
            "CERSEI - BRIENNE 0.0038862606857720003\n",
            "MELISANDRE - LYANNA_MORMONT 0.0035937193855959996\n"
          ]
        }
      ],
      "source": [
        "kz = linkpred.predictors.Katz(g, excluded=g.edges())\n",
        "# Katz аргачлалаар таамаглагч үүсгэж байна.\n",
        "# Бид зөвхөн шинэ холбоосуудыг таамаглахыг зорьж байгаа тул, одоо байгаа холбоосуудыг (g.edges()) хасаж байгаа.\n",
        "\n",
        "kz_results = kz.predict()\n",
        "# Таамагласан холбоосуудын үр дүнг гаргаж авч байна\n",
        "\n",
        "top = kz_results.top(5)\n",
        "# Дээд 5 холбоосыг оноогоор нь авч байна\n",
        "\n",
        "for edge, score in top.items():\n",
        "    print(edge, score)\n",
        "    # Топ 5 холбоос болон тэдгээрийн оноог хэвлэж байна"
      ]
    },
    {
      "source": [
        "**Graph Distance (Графын зай)**\n",
        "\n",
        "Graph Distance буюу графын зай нь хоёр оройн хоорондох богино замын урт буюу тэдгээрийн хоорондох хамгийн ойрын холболтын хэмжээг илэрхийлнэ. Энэ арга нь тухайн оройнуудын хоорондох хамгийн бага алхамуудын тоог тодорхойлж, хоёр оройн хооронд холбоо үүсэх магадлал хэр өндөр байж болохыг тооцоолно.\n",
        "\n",
        "\n",
        "Утга нь: Графын зай нь хамгийн ойрын зам-ыг тодорхойлж, хэрвээ хоёр орой нь ойрхон байрладаг бол холбоо үүсэх магадлал өндөр байдаг."
      ],
      "cell_type": "markdown",
      "metadata": {
        "id": "1-otsYcI0asG"
      }
    },
    {
      "cell_type": "code",
      "execution_count": null,
      "metadata": {
        "colab": {
          "base_uri": "https://localhost:8080/"
        },
        "id": "m6RedXEC0asG",
        "outputId": "eaee8cf1-9847-47e2-cf80-1d16ada3b982"
      },
      "outputs": [
        {
          "output_type": "stream",
          "name": "stdout",
          "text": [
            "LADY_CRANE - JAQEN 36.136054421768705\n",
            "TYRION - DAARIO 30.29268292682927\n",
            "CERSEI - BRIENNE 28.44827586206896\n",
            "MELISANDRE - LITTLEFINGER 23.427491305005294\n",
            "CERSEI - BRONN 23.294117647058822\n"
          ]
        }
      ],
      "source": [
        "gd = linkpred.predictors.GraphDistance(g, excluded=g.edges())\n",
        "# GraphDistance (Графын зай) аргачлалаар таамаглагч үүсгэж байна.\n",
        "# Бид зөвхөн шинэ холбоосуудыг таамаглахыг зорьж байгаа тул, одоо байгаа холбоосуудыг (g.edges()) хасаж байгаа.\n",
        "\n",
        "gd_results = gd.predict()\n",
        "# Таамагласан холбоосуудын үр дүнг гаргаж авч байна\n",
        "\n",
        "top = gd_results.top(5)\n",
        "# Дээд 5 холбоосыг оноогоор нь авч байна\n",
        "\n",
        "for edge, score in top.items():\n",
        "    print(edge, score)\n",
        "    # Топ 5 холбоос болон тэдгээрийн оноог хэвлэж байна"
      ]
    },
    {
      "cell_type": "markdown",
      "metadata": {
        "id": "JmupbL680asG"
      },
      "source": [
        "**Ranking ангиллын таамаглагчид**\n",
        "\n",
        "Гуравдагч бүлгийн таамаглагчид нь граф дахь оройн байрлалаас хамааран хоёр оройн хоорондын холбоос үүсэх магадлалыг тооцоолдог. Энэ төрлийн таамаглагчид оройн хоорондын төстэй байдал, эсвэл холбогдож буй оройнуудын байрлалын зөрүүг харгалзан үнэлдэг.\n",
        "\n",
        "Энэ бүлэг нь дараах асуултад хариулж байж холбоо үүсэх магадлалын талаар дүгнэлт гаргадаг:\n",
        "\n",
        "\"Бид хэрхэн төстэй вэ?\"\n",
        "\n",
        "\n",
        "**SimRank**\n",
        "\n",
        "SimRank арга нь хоёр зангилааны хооронд холбоос үүсэхийн тулд тэдгээрийн хөрш оройнууд ижил төстэй байх шаардлагатай гэж үздэг. Тодруулбал, энэ арга нь хоёр оройн хөршүүдийн төстэй байдлыг тооцоолж, хэрвээ тэдгээр оройнуудын хөршүүд нь ижил төстэй байвал, тухайн хоёр орой хооронд холбоо үүсэх магадлал өндөр гэж үздэг.\n",
        "\n",
        "Утга нь: Хоёр оройны хооронд холбоо үүсэхийн тулд тэдний хөрш оройнууд төсөөтэй байх шаардлагатай, ингэснээр холбоо үүсэх магадлал илүү өндөр болно.\n",
        "Энэхүү арга нь графын топологийн хөрш оройнуудын ижил төстэй байдлыг тодорхойлж, холбогдох оройнуудын хооронд илүү их магадлалтай холбоо үүсэхийг таамагладаг."
      ]
    },
    {
      "cell_type": "code",
      "execution_count": null,
      "metadata": {
        "colab": {
          "base_uri": "https://localhost:8080/"
        },
        "id": "yqXOqgWf0asG",
        "outputId": "454192c9-56b0-4c4a-c56d-048f0253963a"
      },
      "outputs": [
        {
          "output_type": "stream",
          "name": "stdout",
          "text": [
            "MAESTER_CITADEL - MAESTER_AEMON 0.3920701611834253\n",
            "RAY - GATINS 0.3886464843365491\n",
            "GATINS - BERIC 0.3675791855431439\n",
            "THOROS - GATINS 0.3636591552182033\n",
            "MAESTER_AEMON - GILLY 0.319889623157789\n"
          ]
        }
      ],
      "source": [
        "simrank = linkpred.predictors.SimRank(g, excluded=g.edges())\n",
        "# SimRank аргачлалаар таамаглагч үүсгэж байна.\n",
        "# Бид зөвхөн шинэ холбоосуудыг таамаглахыг зорьж байгаа тул, одоо байгаа холбоосуудыг (g.edges()) хасаж байгаа.\n",
        "\n",
        "simrank_results = simrank.predict(c=0.5)\n",
        "# SimRank аргачлалыг ашиглан холбоосын таамаглал гүйцэтгэж, таамаглалын коэффициент (c=0.5) оруулж байна.\n",
        "# `c` коэффициент нь нийтлэг хөршүүдийн тоо болон тэдгээрийн уялдаа холбоог хэрхэн онцолсон болохыг илтгэдэг.\n",
        "\n",
        "top = simrank_results.top(5)\n",
        "# Дээд 5 холбоосыг оноогоор нь авч байна\n",
        "\n",
        "for edge, score in top.items():\n",
        "    print(edge, score)\n",
        "    # Топ 5 холбоос болон тэдгээрийн оноог хэвлэж байна"
      ]
    },
    {
      "cell_type": "markdown",
      "metadata": {
        "id": "2RLWWBhM0asG"
      },
      "source": [
        "**Miscellanea ангилал**\n",
        "\n",
        "Miscellanea бүлэг нь холбоос таамаглахад санамсаргүй байдлаар сонгосон аргуудыг агуулдаг. Энэ бүлэгт орох аргууд нь ихэвчлэн суурь ба тэгш байдлыг шалгах зорилгоор хэрэглэгддэг, гэхдээ энэ нь ч мөн таамаглахад хэрэглэгддэг нэг арга зам юм.\n",
        "\n",
        "linkpred сан нь энд санамсаргүй аргуудыг оруулсан бөгөөд эдгээр нь холбогдох холбоосыг таамаглахад суурь түвшний шалгуур болгож ашиглагддаг.\n",
        "\n",
        "**Random (Санамсаргүй)**\n",
        "\n",
        "Random арга нь холбоосыг санамсаргүй байдлаар таах аргын жишээг харуулдаг. Энэ нь ямар нэгэн онцлог эсвэл хамааралгүйгээр, сүлжээнд байгаа оройнуудын хооронд санамсаргүйгээр холбоос үүсгэдэг.\n",
        "\n",
        "Утга нь: Энэ арга нь суурь шалгуур болгож хэрэглэгддэг бөгөөд илүү нарийн аргачлалтай харьцуулахад ямар ч тодорхой хамааралгүйгээр холбоос үүсгэхийг зорьдог."
      ]
    },
    {
      "cell_type": "code",
      "execution_count": null,
      "metadata": {
        "colab": {
          "base_uri": "https://localhost:8080/"
        },
        "id": "lXVnLjig0asG",
        "outputId": "6f88ab59-2e35-40fc-e8bf-db01913c78a8"
      },
      "outputs": [
        {
          "output_type": "stream",
          "name": "stdout",
          "text": [
            "MAESTER_CITADEL - MAESTER_AEMON 0.3920701611834253\n",
            "RAY - GATINS 0.3886464843365491\n",
            "GATINS - BERIC 0.3675791855431439\n",
            "THOROS - GATINS 0.3636591552182033\n",
            "MAESTER_AEMON - GILLY 0.319889623157789\n"
          ]
        }
      ],
      "source": [
        "rnd = linkpred.predictors.Random(g, excluded=g.edges())\n",
        "# Random (Санамсаргүй) аргачлалаар таамаглагч үүсгэж байна.\n",
        "# Бид зөвхөн шинэ холбоосуудыг таамаглахыг зорьж байгаа тул, одоо байгаа холбоосуудыг (g.edges()) хасаж байгаа.\n",
        "\n",
        "rnd_results = rnd.predict()\n",
        "# Санамсаргүй таамаглал гүйцэтгэж байна\n",
        "\n",
        "top = simrank_results.top(5)\n",
        "# Дээрх код нь `simrank_results`-ыг ашигласан байгаа, харин та `rnd_results` ашиглах ёстой.\n",
        "# Тиймээс энд `simrank_results`-г орлуулж `rnd_results` байлгах хэрэгтэй.\n",
        "\n",
        "for edge, score in top.items():\n",
        "    print(edge, score)\n",
        "    # Топ 5 холбоос болон тэдгээрийн оноог хэвлэж байна"
      ]
    },
    {
      "cell_type": "markdown",
      "metadata": {
        "id": "HJ0sQIje0asG"
      },
      "source": [
        "**Таамаглагчидыг харьцуулах болон үнэлэх**\n",
        "\n",
        "Холбоосуудыг үүсэх эсэхийг таамаглах үйл явцад бид сургалтын (training) болон тестийн (testing) өгөгдлүүдийг ашиглан үр дүнг үнэлнэ. Энэ нь таамаглагчийн өргөн цар хүрээтэй туршилт хийх, зорилтот өгөгдлөөс нь гажихгүй байх нөхцөлийг хангах зорилготой юм.\n",
        "\n",
        "Өгөгдлийг сургалтын болон тестийн гэж хуваах\n",
        "\n",
        "Таамаглагчийн үнэлгээ хийхийн тулд бид өгөгдлийг сургалтын болон тестийн гэж хоёр ангилдаг. Энэ хуваалтууд нь дараах зорилготой:\n",
        "\n",
        "Сургалтын өгөгдөл (Training Data): Энэ өгөгдлөөр таамаглагчийг сургалтад оруулж, мэдлэг олж авдаг.\n",
        "\n",
        "Тестийн өгөгдөл (Testing Data): Энэ өгөгдлийг сургалт дууссаны дараа таамаглагчийн зохистой байдал болон нөхцөлд нийцэх эсэхийг шалгах зорилгоор ашигладаг.\n",
        "\n",
        "Өгөгдлийг зөв хувааж ашиглах нь таамаглагчийн чухал үнэлгээ болон гүний тест хийж, түүний бат бөх байдал болон тестийн орчинд гүйцэтгэлийг шалгах боломжийг олгодог."
      ]
    },
    {
      "cell_type": "code",
      "execution_count": null,
      "metadata": {
        "id": "NybDVGWo0asH"
      },
      "outputs": [],
      "source": [
        "import random  # санамсаргүй тоонууд болон үйлдлүүдийг хийхийн тулд random номын санг оруулж байна\n",
        "import itertools  # itertools номын санг оруулж байна (олон төрлийн комбинаториуд болон давталт хийхэд ашиглана)\n",
        "from linkpred.evaluation import Pair  # linkpred номын сангийн evaluation хэсгээс Pair класс оруулж байна\n",
        "\n",
        "# Туршилтын сүлжээг үүсгэж байна\n",
        "test = read_net_w(f'/content/sample_data/got-s7-edges.csv')  # test сүлжээний өгөгдлийг уншиж байна\n",
        "\n",
        "# Сургалтын үе шатнаас test сүлжээг хасаж байна\n",
        "training = g.copy()  # сургалтын сүлжээг g графын хуулбараар үүсгэж байна\n",
        "\n",
        "# Узелуудын жагсаалт\n",
        "nodes = list(g.nodes())  # сургалтын сүлжээгээс бүх узелуудыг жагсааж байна\n",
        "nodes.extend(list(test.nodes()))  # туршилтын сүлжээгээс мөн узелуудыг нэмж байна\n",
        "\n",
        "# Туршилтын багц болон ертөнцийн багцыг тооцоолох\n",
        "test = [Pair(i) for i in test.edges()]  # туршилтын сүлжээгээс бүх холбоосуудын хосыг Pair обьект болгон хувиргаж байна\n",
        "universe = set([Pair(i) for i in itertools.product(nodes, nodes) if i[0]!=i[1]])\n",
        "# Узелуудын бүх боломжит хослолуудыг үүсгэж байна, өөрөөр хэлбэл бүх боломжит холбоосуудыг, өөрийнтэйгөө холбоос үүсгэхгүй"
      ]
    },
    {
      "cell_type": "markdown",
      "metadata": {
        "id": "xOJrigLz0asH"
      },
      "source": [
        "Дараагаар нь бид сургалтын өгөгдөл дээрээ таамаглагчаа ажиллуулна."
      ]
    },
    {
      "cell_type": "code",
      "execution_count": null,
      "metadata": {
        "id": "QmmpypKS0asH"
      },
      "outputs": [],
      "source": [
        "cn = linkpred.predictors.CommonNeighbours(training, excluded=training.edges())\n",
        "# Common Neighbours (Нийтлэг хөршүүд) таамаглагчийг үүсгэж байна.\n",
        "# Сургалтын сүлжээнээс аль хэдийн байгаа холбоосуудыг (training.edges()) хасаж, зөвхөн шинэ холбоосуудыг таамаглахыг зорьж байгаа.\n",
        "\n",
        "cn_results = cn.predict()\n",
        "# Common Neighbours аргачлалаар холбоосуудыг таамаглаж байна\n",
        "\n",
        "aa = linkpred.predictors.AdamicAdar(training, excluded=training.edges())\n",
        "# Adamic-Adar таамаглагчийг сургалтын сүлжээнд үүсгэж байна.\n",
        "# Энэ арга нь нийтлэг хөршүүдийн тоог болон тэдгээрийн зартай байдлыг харгалзан холбоосуудыг таамаглана.\n",
        "\n",
        "aa_results = aa.predict()\n",
        "# Adamic-Adar аргачлалаар холбоосуудыг таамаглаж байна\n",
        "\n",
        "jc = linkpred.predictors.Jaccard(training, excluded=training.edges())\n",
        "# Jaccard таамаглагчийг сургалтын сүлжээнд үүсгэж байна.\n",
        "# Jaccard арга нь хоёр узелийн нийтлэг хөршүүдийн харьцааг ашиглан холбоос үүсэх магадлалыг тооцоолно.\n",
        "\n",
        "jc_results = jc.predict()\n",
        "# Jaccard аргачлалаар холбоосуудыг таамаглаж байна"
      ]
    },
    {
      "cell_type": "markdown",
      "metadata": {
        "id": "D47fHTM30asH"
      },
      "source": [
        "Тестийн өгөгдлөө ашиглан таамаглагч хэр үнэн таамаглаж буй үнэлнэ.\n"
      ]
    },
    {
      "cell_type": "code",
      "execution_count": null,
      "metadata": {
        "id": "P9AVN8ad0asH"
      },
      "outputs": [],
      "source": [
        "cn_evaluation = linkpred.evaluation.EvaluationSheet(cn_results, test, universe)\n",
        "# Common Neighbours (Нийтлэг хөршүүд) аргачлалаар гаргасан таамаглалын үр дүнг (cn_results)\n",
        "# болон тест сүлжээ (test) болон бүх боломжит холбоосуудын багц (universe)-тай хамт хэрэглэж,\n",
        "# холбоосын таамаглалыг үнэлж байна.\n",
        "\n",
        "aa_evaluation = linkpred.evaluation.EvaluationSheet(aa_results, test, universe)\n",
        "# Adamic-Adar аргачлалаар гаргасан таамаглалын үр дүнг (aa_results),\n",
        "# тест сүлжээ (test) болон бүх боломжит холбоосууд (universe)-тай хамт хэрэглэж,\n",
        "# холбоосын таамаглалыг үнэлж байна.\n",
        "\n",
        "jc_evaluation = linkpred.evaluation.EvaluationSheet(jc_results, test, universe)\n",
        "# Jaccard аргачлалаар гаргасан таамаглалын үр дүнг (jc_results),\n",
        "# тест сүлжээ (test) болон бүх боломжит холбоосууд (universe)-тай хамт хэрэглэж,\n",
        "# холбоосын таамаглалыг үнэлж байна."
      ]
    },
    {
      "cell_type": "markdown",
      "metadata": {
        "id": "ARg7azri0asH"
      },
      "source": [
        "Үр дүнгүүдээ тайлбарлахдаа ROC -ийн муруй ашиглан дүрслэнэ.\n"
      ]
    },
    {
      "cell_type": "code",
      "execution_count": null,
      "metadata": {
        "colab": {
          "base_uri": "https://localhost:8080/",
          "height": 449
        },
        "id": "H-alLozl0asH",
        "outputId": "db3bb670-da11-4671-e92d-bdbaa2598a73"
      },
      "outputs": [
        {
          "output_type": "display_data",
          "data": {
            "text/plain": [
              "<Figure size 640x480 with 1 Axes>"
            ],
            "image/png": "[encoded data removed]"
          },
          "metadata": {}
        }
      ],
      "source": [
        "plt.plot(cn_evaluation.fallout(), cn_evaluation.recall(), label=\"Common Neighbors\")\n",
        "# Common Neighbours аргачлалын Fallout (Хуурамч эерэг) болон Recall (Тууштай байдал) утгуудыг графикаар зурах.\n",
        "# TPR (True Positive Rate) ба FPR (False Positive Rate)-ийг дүрслэх болно.\n",
        "\n",
        "plt.plot(aa_evaluation.fallout(), aa_evaluation.recall(), label=\"Adamic Adar\")\n",
        "# Adamic-Adar аргачлалын Fallout болон Recall утгуудыг графикаар зурах.\n",
        "\n",
        "plt.plot(jc_evaluation.fallout(), jc_evaluation.recall(), label=\"Jaccard\")\n",
        "# Jaccard аргачлалын Fallout болон Recall утгуудыг графикаар зурах.\n",
        "\n",
        "plt.ylabel(\"TPR\")\n",
        "# Y тагийг \"True Positive Rate\" буюу TPR гэж тэмдэглэж байна.\n",
        "\n",
        "plt.xlabel(\"FPR\")\n",
        "# X тагийг \"False Positive Rate\" буюу FPR гэж тэмдэглэж байна.\n",
        "\n",
        "plt.legend()\n",
        "# Графикийн тулд тайлбар нэмэх буюу легенд үүсгэж байна (аргачлал бүрийн нэрийг).\n",
        "\n",
        "plt.show()\n",
        "# Бүх графикуудыг харуулах."
      ]
    },
    {
      "cell_type": "markdown",
      "metadata": {
        "id": "qQOF0QNu0asH"
      },
      "source": [
        "**ROC муруй болон AUC**\n",
        "\n",
        "ROC муруй нь таамаглагчийн гүйцэтгэлийг True Positive Rate (TPR) ба False Positive Rate (FPR)-ийн харьцаагаар илэрхийлдэг график юм.\n",
        "AUC (Area Under the Curve) нь ROC муруй доорх талбайг хэмжиж, таамаглагчийн гүйцэтгэлийг 0-1 хооронд үнэлнэ. AUC = 1 бол маш сайн, AUC = 0.5 бол санамсаргүй таамаглал, AUC < 0.5 бол муу гүйцэтгэл.\n",
        "\n",
        "Товч дүгнэлт:\n",
        "\n",
        "ROC муруй нь гүйцэтгэлийг график хэлбэрээр харуулдаг.\n",
        "AUC нь таамаглагчийн гүйцэтгэлийн тоон үнэлгээ болж, 1-ийн дээд тал нь хамгийн сайн гүйцэтгэлтэй гэж тооцогддог."
      ]
    },
    {
      "cell_type": "code",
      "execution_count": null,
      "metadata": {
        "colab": {
          "base_uri": "https://localhost:8080/"
        },
        "id": "oSKu-Xs90asH",
        "outputId": "1738f9f9-fe4f-4a3c-c999-0e08dfe40d2d"
      },
      "outputs": [
        {
          "output_type": "stream",
          "name": "stdout",
          "text": [
            "Area Under Roc Curve (AUROC)\n",
            "Common Neigh.: \t 0.026832485313825823\n",
            "Adamic Adar: \t 0.027259625028069757\n",
            "Jaccard: \t 0.018894838921578106\n"
          ]
        }
      ],
      "source": [
        "from sklearn.metrics import auc  # sklearn номын сангаас auc (Area Under the Curve) хэрэгслийг оруулж байна\n",
        "\n",
        "print(\"Area Under Roc Curve (AUROC)\")\n",
        "# AUROC буюу ROC бөгжийн доод талын талбайг хэвлэж байна\n",
        "\n",
        "print(f\"Common Neigh.: \\t {auc(cn_evaluation.fallout(), cn_evaluation.recall())}\")\n",
        "# Common Neighbors аргачлалын ROC бөгжийн доорхи талбайг (AUROC) тооцоолж хэвлэж байна\n",
        "\n",
        "print(f\"Adamic Adar: \\t {auc(aa_evaluation.fallout(), aa_evaluation.recall())}\")\n",
        "# Adamic-Adar аргачлалын ROC бөгжийн AUROC-ийг тооцоолж хэвлэж байна\n",
        "\n",
        "print(f\"Jaccard: \\t {auc(jc_evaluation.fallout(), jc_evaluation.recall())}\")\n",
        "# Jaccard аргачлалын ROC бөгжийн AUROC-ийг тооцоолж хэвлэж байна"
      ]
    },
    {
      "cell_type": "markdown",
      "source": [
        "**Дүгнэлт:**"
      ],
      "metadata": {
        "id": "2IsY0j-Ziydm"
      }
    },
    {
      "cell_type": "markdown",
      "source": [
        "Jaccard ба Adamic-Adar ялгаа:\n",
        "\n",
        "Jaccard нь хоёр узелийн хамтрагчийн тоог харьцуулж, холбоос үүсэх магадлалыг тооцоолдог. Энэ нь энгийн бөгөөд тус бүрийн хамтрагчийн тоог харьцуулдаг.\n",
        "Adamic-Adar нь хоёр узелийн хамтрагчид дээр логарифм ашиглан илүү нарийвчилсан үнэлгээ гаргадаг. Энэ нь хамтрагчийн тоо ихтэй узелүүдийг илүү их жинтэй үнэлдэг.\n",
        "\n",
        "Link Prediction with Decision Tree using Linkpred:\n",
        "\n",
        "Linkpred сан нь холбоос илрүүлэх олон алгоритм дэмждэг бөгөөд Decision Tree алгоритм нь сүлжээний шинж чанар (узелийн хамтрагчийн тоо, холболтын төрөл гэх мэт)-г ашиглан холбоос үүсэх магадлалыг тооцоолдог. Decision Tree нь өгөгдөлд тулгуурлан шийдвэр гаргаж, холбоос үүсэх эсэхийг тодорхойлно."
      ],
      "metadata": {
        "id": "qQkVX0gjWEOo"
      }
    }
  ],
  "metadata": {
    "kernelspec": {
      "display_name": "Python 3",
      "language": "python",
      "name": "python3"
    },
    "language_info": {
      "codemirror_mode": {
        "name": "ipython",
        "version": 3
      },
      "file_extension": ".py",
      "mimetype": "text/x-python",
      "name": "python",
      "nbconvert_exporter": "python",
      "pygments_lexer": "ipython3",
      "version": "3.6.5-final"
    },
    "colab": {
      "provenance": [],
      "include_colab_link": true
    }
  },
  "nbformat": 4,
  "nbformat_minor": 0
}